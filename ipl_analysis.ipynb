{
 "cells": [
  {
   "cell_type": "code",
   "execution_count": 20,
   "id": "adaf4a10",
   "metadata": {},
   "outputs": [],
   "source": [
    "import pandas as pd\n",
    "import numpy as np\n",
    "import pandas as pd\n",
    "import seaborn as sns\n",
    "import matplotlib.pyplot as plt"
   ]
  },
  {
   "cell_type": "code",
   "execution_count": 21,
   "id": "ec7849c2",
   "metadata": {},
   "outputs": [],
   "source": [
    "pl_filtered = pd.read_csv(\n",
    "    \"C:\\\\Users\\\\Ajaz Ahamad\\\\Desktop\\\\pw skills\\\\python\\\\ipl_filtered_24_25.csv\",\n",
    "    low_memory=False\n",
    ")\n"
   ]
  },
  {
   "cell_type": "code",
   "execution_count": 22,
   "id": "e8fb1e35",
   "metadata": {},
   "outputs": [],
   "source": [
    "ipl_player_stats = pd.read_csv(\n",
    "    \"C:\\\\Users\\\\Ajaz Ahamad\\\\Desktop\\\\pw skills\\\\python\\\\ipl_player_stats_24_25.csv\",\n",
    "    low_memory=False\n",
    ")"
   ]
  },
  {
   "cell_type": "code",
   "execution_count": 23,
   "id": "440d7f5c",
   "metadata": {},
   "outputs": [],
   "source": [
    "ipl_summary = pd.read_csv(\n",
    "    \"C:\\\\Users\\\\Ajaz Ahamad\\\\Desktop\\\\pw skills\\\\python\\\\ipl_summary_24_25.csv\",\n",
    "    low_memory=False\n",
    ")"
   ]
  },
  {
   "cell_type": "markdown",
   "id": "95fcf403",
   "metadata": {},
   "source": [
    " Confirming loaded shapes"
   ]
  },
  {
   "cell_type": "code",
   "execution_count": 30,
   "id": "852b1da2",
   "metadata": {},
   "outputs": [
    {
     "ename": "TypeError",
     "evalue": "read_csv() got an unexpected keyword argument 'error_bad_lines'",
     "output_type": "error",
     "traceback": [
      "\u001b[1;31m---------------------------------------------------------------------------\u001b[0m",
      "\u001b[1;31mTypeError\u001b[0m                                 Traceback (most recent call last)",
      "Cell \u001b[1;32mIn[30], line 2\u001b[0m\n\u001b[0;32m      1\u001b[0m \u001b[38;5;66;03m# Load CSV files with appropriate quoting handling\u001b[39;00m\n\u001b[1;32m----> 2\u001b[0m ipl_filtered_24_25 \u001b[38;5;241m=\u001b[39m \u001b[43mpd\u001b[49m\u001b[38;5;241;43m.\u001b[39;49m\u001b[43mread_csv\u001b[49m\u001b[43m(\u001b[49m\u001b[38;5;124;43m'\u001b[39;49m\u001b[38;5;124;43mipl_filtered_24_25.csv\u001b[39;49m\u001b[38;5;124;43m'\u001b[39;49m\u001b[43m,\u001b[49m\u001b[43m \u001b[49m\u001b[43mquotechar\u001b[49m\u001b[38;5;241;43m=\u001b[39;49m\u001b[38;5;124;43m'\u001b[39;49m\u001b[38;5;124;43m\"\u001b[39;49m\u001b[38;5;124;43m'\u001b[39;49m\u001b[43m,\u001b[49m\u001b[43m \u001b[49m\u001b[43merror_bad_lines\u001b[49m\u001b[38;5;241;43m=\u001b[39;49m\u001b[38;5;28;43;01mFalse\u001b[39;49;00m\u001b[43m,\u001b[49m\u001b[43m \u001b[49m\u001b[43mwarn_bad_lines\u001b[49m\u001b[38;5;241;43m=\u001b[39;49m\u001b[38;5;28;43;01mTrue\u001b[39;49;00m\u001b[43m)\u001b[49m\n\u001b[0;32m      3\u001b[0m ipl_player_stats_24_25 \u001b[38;5;241m=\u001b[39m pd\u001b[38;5;241m.\u001b[39mread_csv(\u001b[38;5;124m'\u001b[39m\u001b[38;5;124mipl_player_stats_24_25.csv\u001b[39m\u001b[38;5;124m'\u001b[39m, quotechar\u001b[38;5;241m=\u001b[39m\u001b[38;5;124m'\u001b[39m\u001b[38;5;124m\"\u001b[39m\u001b[38;5;124m'\u001b[39m, error_bad_lines\u001b[38;5;241m=\u001b[39m\u001b[38;5;28;01mFalse\u001b[39;00m, warn_bad_lines\u001b[38;5;241m=\u001b[39m\u001b[38;5;28;01mTrue\u001b[39;00m)\n\u001b[0;32m      4\u001b[0m ipl_summary_24_25 \u001b[38;5;241m=\u001b[39m pd\u001b[38;5;241m.\u001b[39mread_csv(\u001b[38;5;124m'\u001b[39m\u001b[38;5;124mipl_summary_24_25.csv\u001b[39m\u001b[38;5;124m'\u001b[39m)\n",
      "\u001b[1;31mTypeError\u001b[0m: read_csv() got an unexpected keyword argument 'error_bad_lines'"
     ]
    }
   ],
   "source": [
    "\n",
    "# Load CSV files with appropriate quoting handling\n",
    "ipl_filtered_24_25 = pd.read_csv('ipl_filtered_24_25.csv', quotechar='\"', error_bad_lines=False, warn_bad_lines=True)\n",
    "ipl_player_stats_24_25 = pd.read_csv('ipl_player_stats_24_25.csv', quotechar='\"', error_bad_lines=False, warn_bad_lines=True)\n",
    "ipl_summary_24_25 = pd.read_csv('ipl_summary_24_25.csv')\n",
    "\n",
    "# Print shapes of the DataFrames\n",
    "print(\"Filtered (Raw Ball-by-Ball) Shape:\", ipl_filtered_24_25.shape)\n",
    "print(\"Cleaned Player Stats Shape:\", ipl_player_stats_24_25.shape)\n",
    "print(\"Match Summary Shape:\", ipl_summary_24_25.shape)\n"
   ]
  }
 ],
 "metadata": {
  "kernelspec": {
   "display_name": "Python 3",
   "language": "python",
   "name": "python3"
  },
  "language_info": {
   "codemirror_mode": {
    "name": "ipython",
    "version": 3
   },
   "file_extension": ".py",
   "mimetype": "text/x-python",
   "name": "python",
   "nbconvert_exporter": "python",
   "pygments_lexer": "ipython3",
   "version": "3.10.11"
  }
 },
 "nbformat": 4,
 "nbformat_minor": 5
}
